{
 "cells": [
  {
   "cell_type": "markdown",
   "id": "68818b7d-3bfc-4267-8d97-f0114ed0f3c6",
   "metadata": {},
   "source": [
    "- pandas version 확인"
   ]
  },
  {
   "cell_type": "code",
   "execution_count": 1,
   "id": "af692e11-3f83-4dda-a914-4e0bb3290ac4",
   "metadata": {},
   "outputs": [
    {
     "data": {
      "text/plain": [
       "'1.4.4'"
      ]
     },
     "execution_count": 1,
     "metadata": {},
     "output_type": "execute_result"
    }
   ],
   "source": [
    "import pandas as pd\n",
    "pd.__version__"
   ]
  },
  {
   "cell_type": "markdown",
   "id": "ae134b96-b8bc-4634-95f9-76d2f61234ac",
   "metadata": {},
   "source": [
    "# Series Data type"
   ]
  },
  {
   "cell_type": "markdown",
   "id": "acb70184-99f6-4447-a15a-c08042dcce6c",
   "metadata": {},
   "source": [
    "- Numpy's ndarray + 숫자가 아닌 다른 type의 index (E.g. 문자열)"
   ]
  },
  {
   "cell_type": "code",
   "execution_count": 2,
   "id": "8f20b244-cc82-4af3-b8c1-ba11f4d7cce7",
   "metadata": {},
   "outputs": [
    {
     "data": {
      "text/plain": [
       "a    1\n",
       "b    2\n",
       "c    3\n",
       "d    4\n",
       "dtype: int64"
      ]
     },
     "execution_count": 2,
     "metadata": {},
     "output_type": "execute_result"
    }
   ],
   "source": [
    "# 첫번째 방법\n",
    "s2 = pd.Series(\n",
    "    [1,2,3,4],\n",
    "    index=['a','b','c','d']\n",
    ")\n",
    "s2.head()"
   ]
  },
  {
   "cell_type": "code",
   "execution_count": 3,
   "id": "56214d0a-1769-4123-bd02-106f5617745a",
   "metadata": {},
   "outputs": [
    {
     "data": {
      "text/plain": [
       "a    1\n",
       "b    2\n",
       "c    3\n",
       "d    4\n",
       "e    5\n",
       "dtype: int64"
      ]
     },
     "execution_count": 3,
     "metadata": {},
     "output_type": "execute_result"
    }
   ],
   "source": [
    "# 두번째 방법\n",
    "s2 = pd.Series(\n",
    "    {'a':1,'b':2,'c':3,'d':4,'e':5}\n",
    ")\n",
    "s2.head()"
   ]
  },
  {
   "cell_type": "markdown",
   "id": "96978ea5-f805-438a-a1b3-417dec74d1f8",
   "metadata": {},
   "source": [
    "- Series는 한가지 data type만 가지고 있을 수 있음"
   ]
  },
  {
   "cell_type": "markdown",
   "id": "407efeb1-4146-44b4-888a-a65c48156073",
   "metadata": {},
   "source": [
    "## nan과 관련된 함수"
   ]
  },
  {
   "cell_type": "code",
   "execution_count": 4,
   "id": "c26bae8c-b4a0-4fc2-b823-c921ca3cd71a",
   "metadata": {},
   "outputs": [],
   "source": [
    "import numpy as np"
   ]
  },
  {
   "cell_type": "code",
   "execution_count": 5,
   "id": "5a8a1f13-4b97-4c6a-8578-4caaac75c4fc",
   "metadata": {},
   "outputs": [
    {
     "data": {
      "text/plain": [
       "nan"
      ]
     },
     "execution_count": 5,
     "metadata": {},
     "output_type": "execute_result"
    }
   ],
   "source": [
    "np.nan"
   ]
  },
  {
   "cell_type": "code",
   "execution_count": 6,
   "id": "76ae29aa-b222-4412-863c-70c2e4537fe9",
   "metadata": {},
   "outputs": [
    {
     "data": {
      "text/plain": [
       "9"
      ]
     },
     "execution_count": 6,
     "metadata": {},
     "output_type": "execute_result"
    }
   ],
   "source": [
    "s = pd.Series([10,0,1,1,2,3,4,5,6,np.nan])\n",
    "\n",
    "len(s)\n",
    "s.count()"
   ]
  },
  {
   "cell_type": "markdown",
   "id": "91fbb80a-c98e-474c-bc5a-4c8ad39d21a4",
   "metadata": {},
   "source": [
    "- 아래와 같이 import를 해서 설정해주면 결과값이 여러개 나오도록 설정이 가능하다"
   ]
  },
  {
   "cell_type": "code",
   "execution_count": 7,
   "id": "00933f7b-b041-49ff-a43f-65099f27e7ef",
   "metadata": {},
   "outputs": [],
   "source": [
    "from IPython.core.interactiveshell import InteractiveShell\n",
    "InteractiveShell.ast_node_interactivity = \"all\""
   ]
  },
  {
   "cell_type": "code",
   "execution_count": 8,
   "id": "aa2aab68-576c-403b-b20a-5532adf743aa",
   "metadata": {},
   "outputs": [
    {
     "data": {
      "text/plain": [
       "10"
      ]
     },
     "execution_count": 8,
     "metadata": {},
     "output_type": "execute_result"
    },
    {
     "data": {
      "text/plain": [
       "(10,)"
      ]
     },
     "execution_count": 8,
     "metadata": {},
     "output_type": "execute_result"
    },
    {
     "data": {
      "text/plain": [
       "9"
      ]
     },
     "execution_count": 8,
     "metadata": {},
     "output_type": "execute_result"
    },
    {
     "data": {
      "text/plain": [
       "0    10.0\n",
       "1     0.0\n",
       "2     1.0\n",
       "3     1.0\n",
       "4     2.0\n",
       "5     3.0\n",
       "6     4.0\n",
       "7     5.0\n",
       "8     6.0\n",
       "9     NaN\n",
       "dtype: float64"
      ]
     },
     "execution_count": 8,
     "metadata": {},
     "output_type": "execute_result"
    }
   ],
   "source": [
    "s = pd.Series([10,0,1,1,2,3,4,5,6,np.nan])\n",
    "\n",
    "len(s)\n",
    "s.shape\n",
    "s.count()\n",
    "s"
   ]
  },
  {
   "cell_type": "code",
   "execution_count": 9,
   "id": "346f7d1e-8a19-4f0a-97f8-75ff6fad965e",
   "metadata": {},
   "outputs": [
    {
     "data": {
      "text/plain": [
       "array([10.,  0.,  1.,  2.,  3.,  4.,  5.,  6., nan])"
      ]
     },
     "execution_count": 9,
     "metadata": {},
     "output_type": "execute_result"
    }
   ],
   "source": [
    "s.unique()"
   ]
  },
  {
   "cell_type": "code",
   "execution_count": 10,
   "id": "d1e8be3d-03c6-410c-88a9-2b592d4a45e4",
   "metadata": {},
   "outputs": [
    {
     "data": {
      "text/plain": [
       "1.0     2\n",
       "10.0    1\n",
       "0.0     1\n",
       "2.0     1\n",
       "3.0     1\n",
       "4.0     1\n",
       "5.0     1\n",
       "6.0     1\n",
       "dtype: int64"
      ]
     },
     "execution_count": 10,
     "metadata": {},
     "output_type": "execute_result"
    }
   ],
   "source": [
    "s.value_counts()"
   ]
  },
  {
   "cell_type": "code",
   "execution_count": null,
   "id": "a0fae24e-8cf7-414a-b259-8e265263abb8",
   "metadata": {},
   "outputs": [],
   "source": []
  },
  {
   "cell_type": "markdown",
   "id": "cff00dee-cab4-4666-b074-d631a077dec8",
   "metadata": {},
   "source": [
    "## index label을 기준으로 Series간에 operation이 일어남"
   ]
  },
  {
   "cell_type": "markdown",
   "id": "24f82bb7-b07c-464b-95bf-9966b47460c7",
   "metadata": {},
   "source": [
    "- Data의 '순서'가 아니라 index label이 자동으로 정렬되어 연산이 진행됨!"
   ]
  },
  {
   "cell_type": "code",
   "execution_count": 12,
   "id": "8b011755-628c-4b3f-9d31-6eddcb6561e9",
   "metadata": {},
   "outputs": [
    {
     "data": {
      "text/plain": [
       "a    1\n",
       "b    2\n",
       "c    3\n",
       "d    4\n",
       "dtype: int64"
      ]
     },
     "execution_count": 12,
     "metadata": {},
     "output_type": "execute_result"
    },
    {
     "data": {
      "text/plain": [
       "d    4\n",
       "c    3\n",
       "b    2\n",
       "a    1\n",
       "dtype: int64"
      ]
     },
     "execution_count": 12,
     "metadata": {},
     "output_type": "execute_result"
    },
    {
     "data": {
      "text/plain": [
       "a    2\n",
       "b    4\n",
       "c    6\n",
       "d    8\n",
       "dtype: int64"
      ]
     },
     "execution_count": 12,
     "metadata": {},
     "output_type": "execute_result"
    }
   ],
   "source": [
    "s3 = pd.Series([1,2,3,4], index=['a','b','c','d'])\n",
    "s4 = pd.Series([4,3,2,1], index=['d','c','b','a'])\n",
    "\n",
    "s3\n",
    "s4\n",
    "s3 + s4"
   ]
  },
  {
   "cell_type": "code",
   "execution_count": null,
   "id": "12dc7e80-b15c-4ff7-b7b5-eb8e5b988551",
   "metadata": {},
   "outputs": [],
   "source": []
  }
 ],
 "metadata": {
  "kernelspec": {
   "display_name": "Python 3 (ipykernel)",
   "language": "python",
   "name": "python3"
  },
  "language_info": {
   "codemirror_mode": {
    "name": "ipython",
    "version": 3
   },
   "file_extension": ".py",
   "mimetype": "text/x-python",
   "name": "python",
   "nbconvert_exporter": "python",
   "pygments_lexer": "ipython3",
   "version": "3.9.13"
  },
  "toc-autonumbering": true,
  "toc-showcode": false,
  "toc-showmarkdowntxt": false,
  "toc-showtags": false
 },
 "nbformat": 4,
 "nbformat_minor": 5
}
