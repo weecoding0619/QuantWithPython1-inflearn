{
 "cells": [
  {
   "cell_type": "markdown",
   "id": "07896cbd-0915-4084-91ef-88c408231b27",
   "metadata": {},
   "source": [
    "# 수업에 사용될 라이브러리 설치"
   ]
  },
  {
   "cell_type": "code",
   "execution_count": 1,
   "id": "13d2d158-86d3-4560-83d9-77a7ebe9f8c9",
   "metadata": {},
   "outputs": [
    {
     "name": "stdout",
     "output_type": "stream",
     "text": [
      " C 드라이브의 볼륨에는 이름이 없습니다.\n",
      " 볼륨 일련 번호: 8A08-8DB8\n",
      "\n",
      " C:\\Users\\smile\\OneDrive\\coding\\python\\study\\(inflearn)DeepingSauce\\quant_investing_part1 디렉터리\n",
      "\n",
      "2022-11-08  오후 01:20    <DIR>          .\n",
      "2022-11-08  오후 01:20    <DIR>          ..\n",
      "2022-11-08  오후 01:23             6,670 #2.1 library&numpy.ipynb\n",
      "2022-11-08  오후 12:12             8,364 #2.2 Series.ipynb\n",
      "2022-11-08  오후 12:52            30,556 #2.3 DataFrame.ipynb\n",
      "2022-11-08  오후 12:15    <DIR>          .ipynb_checkpoints\n",
      "2022-11-08  오후 01:20                 0 test.py\n",
      "               4개 파일              45,590 바이트\n",
      "               3개 디렉터리  76,467,965,952 바이트 남음\n"
     ]
    }
   ],
   "source": [
    "!dir"
   ]
  },
  {
   "cell_type": "markdown",
   "id": "3b6adc83-4de3-4392-adaa-a5dd68cc432d",
   "metadata": {},
   "source": [
    "# Numpy 소개"
   ]
  },
  {
   "cell_type": "code",
   "execution_count": 2,
   "id": "699e7330-91e0-4e4d-82e4-69efe0333548",
   "metadata": {},
   "outputs": [],
   "source": [
    "import numpy as np"
   ]
  },
  {
   "cell_type": "markdown",
   "id": "0c40e106-35cf-4510-9864-5b2541e47426",
   "metadata": {},
   "source": [
    "## ndarray dtype"
   ]
  },
  {
   "cell_type": "code",
   "execution_count": null,
   "id": "93cdebdc-02c1-4985-ba6b-c8f8949b1374",
   "metadata": {},
   "outputs": [
    {
     "data": {
      "text/plain": [
       "array([1, 2, 3])"
      ]
     },
     "execution_count": 4,
     "metadata": {},
     "output_type": "execute_result"
    }
   ],
   "source": [
    "a = np.array([1,2,3])\n",
    "a"
   ]
  },
  {
   "cell_type": "code",
   "execution_count": null,
   "id": "c32b4742-a3cc-48d6-b676-9ff0481c09b0",
   "metadata": {},
   "outputs": [
    {
     "data": {
      "text/plain": [
       "numpy.ndarray"
      ]
     },
     "execution_count": 5,
     "metadata": {},
     "output_type": "execute_result"
    }
   ],
   "source": [
    "type(a)"
   ]
  },
  {
   "cell_type": "code",
   "execution_count": null,
   "id": "0a2f8d5d-523b-46be-b00e-37bf02508b63",
   "metadata": {},
   "outputs": [
    {
     "data": {
      "text/plain": [
       "1"
      ]
     },
     "execution_count": 7,
     "metadata": {},
     "output_type": "execute_result"
    }
   ],
   "source": [
    "# indexing이 list와 방식이 같음\n",
    "a[0]"
   ]
  },
  {
   "cell_type": "markdown",
   "id": "1f8d295c-10c2-4318-9fcc-20fda86d695f",
   "metadata": {},
   "source": [
    "- append() 같은 함수가 없음 -> 즉, python의 list와는 다른 data type임"
   ]
  },
  {
   "cell_type": "markdown",
   "id": "cc1d1152-4d4c-488c-92bd-894c0e202ee8",
   "metadata": {},
   "source": [
    "## Universal function"
   ]
  },
  {
   "cell_type": "code",
   "execution_count": null,
   "id": "f76c18b8-5ca9-4489-b54a-38e1f0560059",
   "metadata": {},
   "outputs": [
    {
     "data": {
      "text/plain": [
       "[5, 7, 9]"
      ]
     },
     "execution_count": 10,
     "metadata": {},
     "output_type": "execute_result"
    }
   ],
   "source": [
    "a = [1,2,3]\n",
    "b = [4,5,6]\n",
    "\n",
    "new_list = []\n",
    "for e1, e2 in zip(a,b):\n",
    "    new_list.append(e1+e2)\n",
    "new_list"
   ]
  },
  {
   "cell_type": "code",
   "execution_count": null,
   "id": "16cf09a9-b29d-48a6-a50e-5521f36046cb",
   "metadata": {},
   "outputs": [
    {
     "data": {
      "text/plain": [
       "[1, 2, 3, 4, 5, 6]"
      ]
     },
     "execution_count": 11,
     "metadata": {},
     "output_type": "execute_result"
    }
   ],
   "source": [
    "a+b"
   ]
  },
  {
   "cell_type": "code",
   "execution_count": null,
   "id": "2efbd12f-a272-400e-a564-750d8d854a3c",
   "metadata": {},
   "outputs": [],
   "source": [
    "a = np.array([1,2,3])\n",
    "b = np.array([4,5,6])"
   ]
  },
  {
   "cell_type": "code",
   "execution_count": null,
   "id": "1e85b695-5920-45b5-882a-6bfba13169eb",
   "metadata": {},
   "outputs": [
    {
     "data": {
      "text/plain": [
       "array([5, 7, 9])"
      ]
     },
     "execution_count": 14,
     "metadata": {},
     "output_type": "execute_result"
    }
   ],
   "source": [
    "a+b"
   ]
  },
  {
   "cell_type": "code",
   "execution_count": null,
   "id": "e19efd08-79cb-43db-9bd2-cb5b7501f469",
   "metadata": {},
   "outputs": [],
   "source": [
    "a = np.array(\n",
    "    [\n",
    "        [1,2],\n",
    "        [3,4]\n",
    "    ]\n",
    ")"
   ]
  },
  {
   "cell_type": "code",
   "execution_count": null,
   "id": "7b1c6926-fa01-400f-8d47-ecae2f0bdcde",
   "metadata": {},
   "outputs": [
    {
     "data": {
      "text/plain": [
       "array([1, 2])"
      ]
     },
     "execution_count": 17,
     "metadata": {},
     "output_type": "execute_result"
    }
   ],
   "source": [
    "a[0]"
   ]
  },
  {
   "cell_type": "code",
   "execution_count": null,
   "id": "c448c727-017c-40d7-84be-ce46b10d37e8",
   "metadata": {},
   "outputs": [
    {
     "data": {
      "text/plain": [
       "2"
      ]
     },
     "execution_count": 18,
     "metadata": {},
     "output_type": "execute_result"
    }
   ],
   "source": [
    "a[0][1]"
   ]
  },
  {
   "cell_type": "code",
   "execution_count": null,
   "id": "0d54e2d1-5547-4822-86bc-985deaad7802",
   "metadata": {},
   "outputs": [],
   "source": []
  }
 ],
 "metadata": {
  "kernelspec": {
   "display_name": "Python 3 (ipykernel)",
   "language": "python",
   "name": "python3"
  },
  "language_info": {
   "codemirror_mode": {
    "name": "ipython",
    "version": 3
   },
   "file_extension": ".py",
   "mimetype": "text/x-python",
   "name": "python",
   "nbconvert_exporter": "python",
   "pygments_lexer": "ipython3",
   "version": "3.9.13"
  },
  "toc-autonumbering": true,
  "toc-showcode": false,
  "toc-showmarkdowntxt": false,
  "vscode": {
   "interpreter": {
    "hash": "e4cce46d6be9934fbd27f9ca0432556941ea5bdf741d4f4d64c6cd7f8dfa8fba"
   }
  }
 },
 "nbformat": 4,
 "nbformat_minor": 5
}
